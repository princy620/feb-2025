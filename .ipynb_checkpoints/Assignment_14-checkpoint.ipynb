{
 "cells": [
  {
   "cell_type": "code",
   "execution_count": 1,
   "id": "4eeba6e5-bc4d-412d-adc2-d151afa8f37f",
   "metadata": {},
   "outputs": [
    {
     "data": {
      "text/plain": [
       "['30:900', '22:484', '59:3481']"
      ]
     },
     "execution_count": 1,
     "metadata": {},
     "output_type": "execute_result"
    }
   ],
   "source": [
    "#Q1)#wap ask the user enter three random numbers and perform the square\n",
    "#of the numbers and save those squares in a list\n",
    "import random\n",
    "l=[]\n",
    "for i in range(3):\n",
    "    num=random.randint(1,100)\n",
    "    l.append(f'{num}:{num*num}')\n",
    "l    "
   ]
  },
  {
   "cell_type": "code",
   "execution_count": 3,
   "id": "bf147a46-8b7f-4957-aefa-b529b484fe4e",
   "metadata": {},
   "outputs": [
    {
     "name": "stdout",
     "output_type": "stream",
     "text": [
      "['30:900', '22:484', '59:3481']\n"
     ]
    }
   ],
   "source": [
    "print(l)"
   ]
  },
  {
   "cell_type": "code",
   "execution_count": 5,
   "id": "d41739bd-b1ba-4f84-9ec0-847d06ee9530",
   "metadata": {},
   "outputs": [
    {
     "name": "stdout",
     "output_type": "stream",
     "text": [
      "evenlist is [10, 12]\n",
      "oddlist is [47, 53, 27]\n"
     ]
    }
   ],
   "source": [
    "#Q2) i already have a list of numbers\n",
    "# l=[10,47,53,12,27]\n",
    "# from above list i want to get a even_list and odd_list\n",
    "l=[10,47,53,12,27]\n",
    "even_list=[]\n",
    "odd_list=[]\n",
    "for i in l:\n",
    "    if i%2 == 0:\n",
    "        even_list.append(i)\n",
    "    else:\n",
    "        odd_list.append(i)\n",
    "print(f'evenlist is {even_list}')\n",
    "print(f'oddlist is {odd_list}')"
   ]
  },
  {
   "cell_type": "code",
   "execution_count": 13,
   "id": "487ef5e8-2921-42c6-ad9c-b2a32d6e8648",
   "metadata": {},
   "outputs": [
    {
     "name": "stdout",
     "output_type": "stream",
     "text": [
      "['Hyd', 'Bengaluru', 'Pune', 'Mumbai']\n"
     ]
    }
   ],
   "source": [
    "#Q3)  input=['hyd','bengaluru','pune','mumbai']\n",
    "#     output=['Hyd','Bengaluru','Pune','Mumbai']\n",
    "input=['hyd','bengaluru','pune','mumbai']\n",
    "output=[]\n",
    "for i in input:\n",
    "    output.append(i.title())\n",
    "print(output)"
   ]
  },
  {
   "cell_type": "code",
   "execution_count": 17,
   "id": "649cd93b-110b-41ba-ae7c-6cd590fe7cbd",
   "metadata": {},
   "outputs": [
    {
     "name": "stdout",
     "output_type": "stream",
     "text": [
      "['HYD', 'BENGALURU', 'PUNE', 'MUMBAI']\n"
     ]
    }
   ],
   "source": [
    "# Q4) input=['hyd','bengaluru','pune','mumbai']\n",
    "#     output=['HYD','BENGALURU','PUNE','MUMBAI']\n",
    "input=['hyd','bengaluru','pune','mumbai']\n",
    "output=[]\n",
    "for i in input:\n",
    "    output.append(i.upper())\n",
    "print(output)"
   ]
  },
  {
   "cell_type": "code",
   "execution_count": 27,
   "id": "a462c2d6-bb72-4b8a-8363-3a290b84459e",
   "metadata": {},
   "outputs": [
    {
     "name": "stdout",
     "output_type": "stream",
     "text": [
      "['ben#galuru', 'mu#mbai']\n"
     ]
    }
   ],
   "source": [
    "# Q5) input=['hyd','ben#galuru','pune','mu#mbai']\n",
    "#     output=[ben#galuru',mu#mbai']\n",
    "input=['hyd','ben#galuru','pune','mu#mbai']\n",
    "output=[]\n",
    "for i in input:\n",
    "    if '#' in i:\n",
    "        output.append(i)\n",
    "print(output)"
   ]
  },
  {
   "cell_type": "code",
   "execution_count": 29,
   "id": "1c042816-f356-4170-9a85-4317d81e3dcb",
   "metadata": {},
   "outputs": [
    {
     "name": "stdout",
     "output_type": "stream",
     "text": [
      "['hyd', 'pune']\n"
     ]
    }
   ],
   "source": [
    "# Q6) input=['hyd','ben#galuru','pune','mu#mbai']\n",
    "#     output=[hyd,pune]\n",
    "input=['hyd','ben#galuru','pune','mu#mbai']\n",
    "output=[]\n",
    "for i in input:\n",
    "    if '#' not in i:\n",
    "        output.append(i)\n",
    "print(output)        "
   ]
  },
  {
   "cell_type": "code",
   "execution_count": 107,
   "id": "ac2e3786-c8d2-4ec1-aa8b-a84f4c988de3",
   "metadata": {},
   "outputs": [
    {
     "name": "stdout",
     "output_type": "stream",
     "text": [
      "['HAI', 'HOW', 'ARE', 'YOU']\n"
     ]
    }
   ],
   "source": [
    "# Q7) input = 'hai how are you'\n",
    "#     output=['HAI','HOW','ARE','YOU']\n",
    "input = 'hai how are you'\n",
    "output=[]\n",
    "for i in input.split():\n",
    "        output.append(i.upper())\n",
    "print(output)"
   ]
  },
  {
   "cell_type": "code",
   "execution_count": 7,
   "id": "e8499263-8343-4bbb-99e0-35899550c2d5",
   "metadata": {},
   "outputs": [
    {
     "name": "stdout",
     "output_type": "stream",
     "text": [
      "virat.kohli@rcb.com\n",
      "rohit.sharma@mi.com\n",
      "ms.dhoni@csk.com\n"
     ]
    },
    {
     "data": {
      "text/plain": [
       "['rcb', 'mi', 'csk']"
      ]
     },
     "execution_count": 7,
     "metadata": {},
     "output_type": "execute_result"
    }
   ],
   "source": [
    "# Q8) input='virat.kohli@rcb.com;rohit.sharma@mi.com;ms.dhoni@csk.com'\n",
    "#     fname=['virat','rohit'.'ms']\n",
    "#     sname=['kohli','sharma','dhoni']\n",
    "#     cname=['rcb','mi','csk']\n",
    "input='virat.kohli@rcb.com;rohit.sharma@mi.com;ms.dhoni@csk.com'\n",
    "l=input.split(';')\n",
    "fname=[]\n",
    "sname=[]\n",
    "cname=[]\n",
    "for i in l:        \n",
    "        print(i)\n",
    "        id1=i.find('.')\n",
    "        id2=i.find('@')\n",
    "        id3=i.find('.',id1+1)\n",
    "        fname.append(i[:id1])\n",
    "        sname.append(i[id1+1:id2])\n",
    "        cname.append(i[id2+1:id3])\n",
    "\n",
    "fname\n",
    "sname\n",
    "cname"
   ]
  },
  {
   "cell_type": "markdown",
   "id": "23460973-d619-4a7b-9bee-b4a339147d82",
   "metadata": {},
   "source": [
    "**word frequency problem**"
   ]
  },
  {
   "cell_type": "code",
   "execution_count": 1,
   "id": "3a57a552-b217-43df-96b9-df5600d09f46",
   "metadata": {},
   "outputs": [
    {
     "data": {
      "text/plain": [
       "['can:4', 'canner:3', 'you:3', 'not:1', 'with:1', 'but:1', 'the:1']"
      ]
     },
     "execution_count": 1,
     "metadata": {},
     "output_type": "execute_result"
    }
   ],
   "source": [
    "# Q9) input='can canner can you can not canner with you but you can the canner'\n",
    "#     output=['can'-4,'canner'-3,'you'-3,'not'-1,'with'-1,'but'-1,'the'-1]\n",
    "input='can canner can you can not canner with you but you can the canner'\n",
    "l=input.split()\n",
    "l1=[]\n",
    "counter=[]\n",
    "for i in l:\n",
    "    if i not in l1:\n",
    "        counter.append(f'{i}:{l.count(i)}') \n",
    "        l1.append(i)\n",
    "counter"
   ]
  },
  {
   "cell_type": "code",
   "execution_count": 5,
   "id": "8280e90f-5a47-4816-afd2-081177654eef",
   "metadata": {},
   "outputs": [
    {
     "data": {
      "text/plain": [
       "['can', 'canner', 'can', 'can', 'canner', 'can', 'the', 'canner']"
      ]
     },
     "execution_count": 5,
     "metadata": {},
     "output_type": "execute_result"
    }
   ],
   "source": [
    "# Q10) input = 'can canner can you can not canner with you but you can the canner'\n",
    "#      stopwords=['not','you','but','with']\n",
    "#      using stopwords remove those words from input\n",
    "#     output='can canner can can canner can canner'\n",
    "input = 'can canner can you can not canner with you but you can the canner'\n",
    "stopwords=['not','you','but','with']\n",
    "output=[]\n",
    "l=input.split()\n",
    "for i in l:\n",
    "    if i not in stopwords:\n",
    "       output.append(i)\n",
    "output"
   ]
  },
  {
   "cell_type": "code",
   "execution_count": 7,
   "id": "63024b98-112d-4d1f-88b0-376b9d58440b",
   "metadata": {},
   "outputs": [
    {
     "data": {
      "text/plain": [
       "'can canner can can canner can the canner'"
      ]
     },
     "execution_count": 7,
     "metadata": {},
     "output_type": "execute_result"
    }
   ],
   "source": [
    "' '.join(output)"
   ]
  },
  {
   "cell_type": "code",
   "execution_count": 19,
   "id": "7cf5d57e-d39c-4118-8d4b-4ad8ec449639",
   "metadata": {},
   "outputs": [
    {
     "data": {
      "text/plain": [
       "['can:4', 'canner:3', 'you:3', 'not:1', 'with:1', 'but:1', 'the:1']"
      ]
     },
     "execution_count": 19,
     "metadata": {},
     "output_type": "execute_result"
    }
   ],
   "source": [
    "#Q11)take a string find the most repeated word from the string\n",
    "input='can canner can you can not canner with you but you can the canner'\n",
    "l=input.split()\n",
    "l1=[]\n",
    "counter=[]\n",
    "for i in l:\n",
    "    if i not in l1:\n",
    "        counter.append(f'{i}:{l.count(i)}') \n",
    "        l1.append(i)\n",
    "counter"
   ]
  },
  {
   "cell_type": "code",
   "execution_count": 135,
   "id": "4fb0c4c1-eae8-417e-b116-19cc4f7d28e1",
   "metadata": {},
   "outputs": [
    {
     "name": "stdout",
     "output_type": "stream",
     "text": [
      "['can', 'you', 'not', 'but', 'the']\n"
     ]
    }
   ],
   "source": [
    "# Q13) take a string find the lowest length of the word from string\n",
    "input = 'can canner can you can not canner with you but you can the canner'\n",
    "sai=input.split()\n",
    "min_length=len(sai[0])\n",
    "lowest_words=[]\n",
    "for i in sai:\n",
    "    word_length=len(i)\n",
    "    if word_length<min_length:\n",
    "        min_length=word_length\n",
    "        lowest_words=[i]\n",
    "    elif word_length==min_length and i not in lowest_words:\n",
    "        lowest_words.append(i)\n",
    "print(lowest_words)"
   ]
  },
  {
   "cell_type": "code",
   "execution_count": 1,
   "id": "4d5598d7-990c-47c1-aa5b-8a7852f21bb5",
   "metadata": {},
   "outputs": [
    {
     "name": "stdin",
     "output_type": "stream",
     "text": [
      "Who is the PM of India?: modi\n",
      "What is the capital of India?: delhi\n",
      "Who is the ICT MENS captain?: rohit\n"
     ]
    },
    {
     "name": "stdout",
     "output_type": "stream",
     "text": [
      "your score is 20\n"
     ]
    }
   ],
   "source": [
    "# Q14) you have some qns list is there\n",
    "#      also you have answers list also there\n",
    "#     qns=['who is PM of india',\n",
    "#       'what is the capital of india', who is ICT MENS captain]\n",
    "#    ans=['Modi','Delhi','Rohit']\n",
    "#    whenerver correct answer marks +10\n",
    "#    print you got total\n",
    "# List of questions and answers\n",
    "# List of questions and answers\n",
    "# List of questions and answers\n",
    "qns = ['Who is the PM of India?','What is the capital of India?','Who is the ICT MENS captain?']\n",
    "ans = ['Modi', 'New Delhi', 'Rohit']\n",
    "user_ans=[]\n",
    "for i in range(len(qns)):\n",
    "    user_ans.append(input(f\"{qns[i]}:\").strip().lower())\n",
    "marks=0\n",
    "for i in range(len(user_ans)):\n",
    "    if user_ans[i]==ans[i].lower():\n",
    "        marks+=10\n",
    "print(f'your score is {marks}')"
   ]
  }
 ],
 "metadata": {
  "kernelspec": {
   "display_name": "Python [conda env:base] *",
   "language": "python",
   "name": "conda-base-py"
  },
  "language_info": {
   "codemirror_mode": {
    "name": "ipython",
    "version": 3
   },
   "file_extension": ".py",
   "mimetype": "text/x-python",
   "name": "python",
   "nbconvert_exporter": "python",
   "pygments_lexer": "ipython3",
   "version": "3.12.7"
  }
 },
 "nbformat": 4,
 "nbformat_minor": 5
}
